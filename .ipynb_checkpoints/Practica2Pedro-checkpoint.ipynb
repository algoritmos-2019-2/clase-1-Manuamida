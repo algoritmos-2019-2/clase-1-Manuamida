{
 "cells": [
  {
   "cell_type": "markdown",
   "metadata": {},
   "source": [
    "# Funciones listas y tuplas\n",
    "\n",
    "## Responda las siguientes Preguntas"
   ]
  },
  {
   "cell_type": "markdown",
   "metadata": {},
   "source": [
    "### Funciones\n",
    "\n",
    "* ¿Por qué son ventajosas las funciones para tener en sus programas?\n",
    "* ¿Cuándo se ejecuta el código en una función: cuando se define la función o cuando se llama a la función?\n",
    "* ¿Qué enunciado crea una función?\n",
    "* ¿Cuál es la diferencia entre una función y una llamada de función?\n",
    "* ¿Cuántos ámbitos globales hay en un programa de Python? ¿Cuántos ámbitos locales?\n",
    "* ¿Qué sucede con las variables en un ámbito local cuando se devuelve la llamada a la función?\n",
    "* ¿Qué es un valor de retorno? ¿Puede un valor de retorno ser parte de una expresión?\n",
    "* Si una función no tiene una declaración de retorno, ¿cuál es el valor de retorno de una llamada a esa función?. \n",
    "* ¿Cómo puede forzar una variable en una función para referirse a la variable global?\n",
    "* ¿Cuál es el tipo de datos de ```None```?\n",
    "* ¿Qué hace la declaración ```import random```?\n",
    "* Si tuviera una función llamada ```randint()``` en un módulo llamado ```random```, ¿cómo lo llamaría después de importar ```random```?"
   ]
  },
  {
   "cell_type": "markdown",
   "metadata": {},
   "source": [
    "### Lista y tuplas\n",
    "* ¿Qué es ```[]```?\n",
    "* ¿Cómo asignaría el valor ```'hola'``` como el tercer valor en una lista almacenada? en una variable llamada spam? (Supongamos que el ```spam``` contiene ```[2, 4, 6, 8, 10]```.) Para las siguientes tres preguntas, digamos que ```spam``` contiene la lista ```[2, 4, 6, 8, 10]```.\n",
    "* ¿Qué evalúa ```spam[int ('3' * 2) / 11]```?\n",
    "* ¿Qué evalúa ```spam[-1]```?\n",
    "* ¿Qué evalúa el ```spam[: 2]```?\n",
    "\n",
    "Para las siguientes tres preguntas, digamos que ```bacon``` contiene la lista ```[3.14, 'cat', 11, 'cat', True]```.\n",
    "* ¿Qué evalúa ```bacon.index('cat')```?\n",
    "* ¿Qué evalúa ```bacon.append(99)```?\n",
    "* ¿Qué hace ```bacon.remove('cat')```?\n",
    "* ¿Cuáles son los operadores para la concatenación de listas y la replicación de listas?\n",
    "* ¿Cuál es la diferencia entre los métodos de lista ```append()``` e ```insert()```?\n",
    "* ¿Cuál es la diferencia entre listas y tuplas?"
   ]
  },
  {
   "cell_type": "markdown",
   "metadata": {},
   "source": [
    "### Proyecto Práctico \n",
    "\n",
    "Códifique las siguiente funciones:"
   ]
  },
  {
   "cell_type": "markdown",
   "metadata": {},
   "source": [
    "* ```testPrime()``` que verifique si un número es primo.\n",
    "* ```prime()``` que genere los primos menores o iguales que $n \\in \\mathbb{I}\\mathbb{N}$.\n",
    "* ```twinPrime()``` que regrese una tupla con los primos gemelos  menores o iguales que $n \\in \\mathbb{I}\\mathbb{N}$.\n",
    "* ```theoremArihtmetic()``` que regrese una lista con la descomposión en potencias de primos para cualquier $n \\in \\mathbb{I}\\mathbb{N}$.\n",
    "* ```mcm()``` que regrese el mínimo común multiplo de dos enteros.\n",
    "* ```MCD()``` que regrese el máximo común divisor de dos enteros."
   ]
  },
  {
   "cell_type": "markdown",
   "metadata": {
    "collapsed": true
   },
   "source": []
  },
  {
   "cell_type": "markdown",
   "metadata": {
    "collapsed": true
   },
   "source": [
    "    Funciones.\n",
    "    ¿Por qué son ventajosas las funciones para tener en sus programas?\n",
    "    Porqué permiten uitilzar una serie de ordenes en cualquier parte del código facilitando la manipulación del mismo. \n",
    "    ¿Cuándo se ejecuta el código en una función: cuando se define la función o cuando se llama a la función?\n",
    "    ¿Qué enunciado crea una función?\n",
    "    El enunciado def fuction(): se crea y se caracteriza una función y en el programa se llama a la función colocando fuction().\n",
    "    ¿Cuál es la diferencia entre una función y una llamada de función?\n",
    "    Una función te permite definir una serie de pasos en los cuales se da una cierta orden que puede ser\"invocada\" en cualquier parte del código, y a esta llamada de la función es cuando se utiliza la funcion en cierta parte del código\n",
    "    ¿Cuántos ámbitos globales hay en un programa de Python? ¿Cuántos ámbitos locales?\n",
    "    Depende de las variables definidas dentro y fuera de una función. A las funciones definidas dentro de una funcion se les conoce como locales, mentras a las definidas en el código fuera de la funcion son conocidas como globales.\n",
    "    ¿Qué sucede con las variables en un ámbito local cuando se devuelve la llamada a la función?\n",
    "    No son impresas, si no hasta que es llamada la función.\n",
    "    ¿Qué es un valor de retorno? ¿Puede un valor de retorno ser parte de una expresión?\n",
    "    Permite retomar el valor de una función, si puede ser parte de una expresión.\n",
    "    Si una función no tiene una declaración de retorno, ¿cuál es el valor de retorno de una llamada a esa función?.\n",
    "    La que se tiene definida dentro de la función.\n",
    "    ¿Cómo puede forzar una variable en una función para referirse a la variable global?\n",
    "    Usando la declaración global dentro de la función.\n",
    "    ¿Cuál es el tipo de datos de None?\n",
    "    ¿Qué hace la declaración import random?\n",
    "    Importa la libreria completa on la que esta definida la función random.\n",
    "    Si tuviera una función llamada randint() en un módulo llamado random, ¿cómo lo llamaría después de importar random?\n",
    "    \n",
    "    Lista y tuplas\n",
    "\n",
    "    ¿Qué es []?\n",
    "    Son corchetes que se utilizan para definir una lista.\n",
    "    ¿Cómo asignaría el valor 'hola' como el tercer valor en una lista almacenada? en una variable llamada spam? \n",
    "    (Supongamos que el spam contiene [2, 4, 6, 8, 10].) Para las siguientes tres preguntas, digamos que spam contiene la lista [2, 4, 6, 8, 10].\n",
    "    spam[\"hola\"]= 2\n",
    "    ¿Qué evalúa spam[int ('3' * 2) / 11]?\n",
    "    \n",
    "    ¿Qué evalúa spam[-1]?\n",
    "    El ultimo termino de la lista.\n",
    "    ¿Qué evalúa el spam[: 2]?\n",
    "    Los elementos de la lista desde el colocado en la posciocion cero hasta el colocado en la posicion 2([2,4,6]) \n",
    "\n",
    "Para las siguientes tres preguntas, digamos que bacon contiene la lista [3.14, 'cat', 11, 'cat', True].\n",
    "\n",
    "    ¿Qué evalúa bacon.index('cat')?\n",
    "    La posicion en la que esta colocada la palabra cat.\n",
    "    ¿Qué evalúa bacon.append(99)?\n",
    "    \n",
    "    ¿Qué hace bacon.remove('cat')?\n",
    "    Elimina al elemento cat de la lista.\n",
    "    ¿Cuáles son los operadores para la concatenación de listas y la replicación de listas?\n",
    "    ¿Cuál es la diferencia entre los métodos de lista append() e insert()?\n",
    "    ¿Cuál es la diferencia entre listas y tuplas?\n",
    "    Las listas son mutables pero las tuplas no.\n",
    "\n",
    "\n",
    "\n",
    "\n",
    "\n",
    "    "
   ]
  },
  {
   "cell_type": "code",
   "execution_count": 32,
   "metadata": {},
   "outputs": [
    {
     "name": "stdout",
     "output_type": "stream",
     "text": [
      "Hola mundo\n"
     ]
    }
   ],
   "source": [
    "print(\"Hola mundo\")"
   ]
  },
  {
   "cell_type": "code",
   "execution_count": null,
   "metadata": {},
   "outputs": [],
   "source": [
    "\n",
    "#Definimos el primer número primo que es el dos (ya que el ni el cero ni el uno son considerados nueros primos)\n",
    "#Si el módulo (residuo de una división) es igual a cero significa que no es un número primo ya que existen números anteriores diferentes de uno para los cuales es posible dividir de manera exacta \n",
    "#Si el residuo es igual a un numero entero diferente de cero entonces es un numero primo\n",
    "def testprime(n):\n",
    "    if n<2:\n",
    "        return \"No es primo\"\n",
    "    elif n==2:\n",
    "        return \"Es primo\"\n",
    "    else:\n",
    "        for i in range(2,n):\n",
    "            if n%i==0:\n",
    "                return \"No es primo\"\n",
    "            elif n%i==i+1:\n",
    "                return \"Es primo\"\n",
    "            else:\n",
    "                return \"Es primo\"\n",
    "testprime(2)\n"
   ]
  },
  {
   "cell_type": "code",
   "execution_count": null,
   "metadata": {},
   "outputs": [],
   "source": [
    "\n",
    "#Funcion que me salio por accidente que devuelve los divisores de un numero\n",
    "def divisores(m):\n",
    "    for n in range(1,m):\n",
    "        if m%n==0:\n",
    "            print(n)\n",
    "divisores(9)"
   ]
  },
  {
   "cell_type": "code",
   "execution_count": null,
   "metadata": {},
   "outputs": [],
   "source": [
    "def prime(n):\n",
    "    for j in range(2,n)\n",
    "        if n%j==j+1:\n",
    "            print (j)\n",
    "        elif n%j==j-1:\n",
    "            print(j)\n",
    "prime(16)\n",
    "    \n",
    "        \n",
    "\n"
   ]
  },
  {
   "cell_type": "code",
   "execution_count": null,
   "metadata": {},
   "outputs": [],
   "source": []
  }
 ],
 "metadata": {
  "kernelspec": {
   "display_name": "Python 2",
   "language": "python",
   "name": "python2"
  },
  "language_info": {
   "codemirror_mode": {
    "name": "ipython",
    "version": 2
   },
   "file_extension": ".py",
   "mimetype": "text/x-python",
   "name": "python",
   "nbconvert_exporter": "python",
   "pygments_lexer": "ipython2",
   "version": "2.7.15"
  }
 },
 "nbformat": 4,
 "nbformat_minor": 2
}
